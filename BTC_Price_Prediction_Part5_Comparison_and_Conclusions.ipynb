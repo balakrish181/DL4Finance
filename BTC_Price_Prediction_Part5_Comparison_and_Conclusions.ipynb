{
 "cells": [
  {
   "cell_type": "markdown",
   "metadata": {},
   "source": [
    "# Bitcoin Price Prediction Using Deep Learning Techniques\n",
    "\n",
    "## Part 5: Model Comparison and Conclusions\n",
    "\n",
    "In this final notebook, we compare all the models we've built (MLP and CNN with both raw and fractionally differenced data) and draw conclusions about the best approaches for Bitcoin price prediction."
   ]
  },
  {
   "cell_type": "code",
   "execution_count": null,
   "metadata": {},
   "outputs": [],
   "source": [
    "# Import Libraries\n",
    "import numpy as np\n",
    "import pandas as pd\n",
    "import matplotlib.pyplot as plt\n",
    "import seaborn as sns\n",
    "import pickle\n",
    "from tensorflow import keras\n",
    "\n",
    "# Visualization Settings\n",
    "import matplotlib as mpl\n",
    "mpl.style.use('seaborn-v0_8-whitegrid')\n",
    "plt.rcParams['figure.figsize'] = (12, 6)\n",
    "plt.rcParams['axes.grid'] = True\n",
    "plt.rcParams['axes.spines.top'] = False\n",
    "plt.rcParams['axes.spines.right'] = False\n",
    "plt.rcParams['axes.labelsize'] = 14\n",
    "plt.rcParams['xtick.labelsize'] = 12\n",
    "plt.rcParams['ytick.labelsize'] = 12\n",
    "plt.rcParams['legend.fontsize'] = 12\n",
    "\n",
    "# Suppress Warnings\n",
    "import warnings\n",
    "warnings.filterwarnings(\"ignore\")\n",
    "\n",
    "# Load results from previous parts\n",
    "try:\n",
    "    # Load MLP results\n",
    "    with open('mlp_results.pkl', 'rb') as f:\n",
    "        mlp_results = pickle.load(f)\n",
    "    \n",
    "    # Load CNN results\n",
    "    with open('cnn_results.pkl', 'rb') as f:\n",
    "        cnn_results = pickle.load(f)\n",
    "    \n",
    "    # Load original data\n",
    "    with open('btc_prepared_data.pkl', 'rb') as f:\n",
    "        data_dict = pickle.load(f)\n",
    "    \n",
    "    print(\"Results loaded successfully.\")\n",
    "except FileNotFoundError:\n",
    "    print(\"Results not found. Please run Parts 3 and 4 first.\")"
   ]
  },
  {
   "cell_type": "markdown",
   "metadata": {},
   "source": [
    "## Comprehensive Model Comparison\n",
    "\n",
    "Let's create a comprehensive comparison of all the models we've built."
   ]
  },
  {
   "cell_type": "code",
   "execution_count": null,
   "metadata": {},
   "outputs": [],
   "source": [
    "# Create a comprehensive comparison DataFrame\n",
    "try:\n",
    "    comparison_data = [\n",
    "        {\n",
    "            'Model': 'MLP (Raw Price)',\n",
    "            'Architecture': 'Multilayer Perceptron',\n",
    "            'Input Type': 'Raw Price Sequence',\n",
    "            'MAE': mlp_results['price_results']['mae'],\n",
    "            'RMSE': mlp_results['price_results']['rmse'],\n",
    "            'MAPE (%)': mlp_results['price_results']['mape']\n",
    "        },\n",
    "        {\n",
    "            'Model': 'MLP (Fractionally Differenced)',\n",
    "            'Architecture': 'Multilayer Perceptron',\n",
    "            'Input Type': 'Fractionally Differenced Sequence',\n",
    "            'MAE': mlp_results['frac_results']['mae'],\n",
    "            'RMSE': mlp_results['frac_results']['rmse'],\n",
    "            'MAPE (%)': mlp_results['frac_results']['mape']\n",
    "        },\n",
    "        {\n",
    "            'Model': 'CNN with GAF (Raw Price)',\n",
    "            'Architecture': 'Convolutional Neural Network',\n",
    "            'Input Type': 'GAF Image of Raw Price',\n",
    "            'MAE': cnn_results['cnn_price_results']['mae'],\n",
    "            'RMSE': cnn_results['cnn_price_results']['rmse'],\n",
    "            'MAPE (%)': cnn_results['cnn_price_results']['mape']\n",
    "        },\n",
    "        {\n",
    "            'Model': 'CNN with GAF (Fractionally Differenced)',\n",
    "            'Architecture': 'Convolutional Neural Network',\n",
    "            'Input Type': 'GAF Image of Fractionally Differenced',\n",
    "            'MAE': cnn_results['cnn_frac_results']['mae'],\n",
    "            'RMSE': cnn_results['cnn_frac_results']['rmse'],\n",
    "            'MAPE (%)': cnn_results['cnn_frac_results']['mape']\n",
    "        }\n",
    "    ]\n",
    "    \n",
    "    comparison_df = pd.DataFrame(comparison_data)\n",
    "    \n",
    "    # Sort by RMSE (lower is better)\n",
    "    comparison_df = comparison_df.sort_values('RMSE')\n",
    "    \n",
    "    # Display the comparison table\n",
    "    display(comparison_df)\n",
    "except NameError:\n",
    "    print(\"Results not available. Please run Parts 3 and 4 first.\")"
   ]
  },
  {
   "cell_type": "markdown",
   "metadata": {},
   "source": [
    "## Visualization of Model Performance\n",
    "\n",
    "Let's visualize the performance metrics of all models for better comparison."
   ]
  },
  {
   "cell_type": "code",
   "execution_count": null,
   "metadata": {},
   "outputs": [],
   "source": [
    "try:\n",
    "    # Set up the figure\n",
    "    fig, axes = plt.subplots(1, 3, figsize=(20, 6))\n",
    "    \n",
    "    # Plot MAE\n",
    "    sns.barplot(x='Model', y='MAE', data=comparison_df, ax=axes[0], palette='viridis')\n",
    "    axes[0].set_title('Mean Absolute Error (MAE)', fontsize=14, fontweight='bold')\n",
    "    axes[0].set_ylabel('MAE')\n",
    "    axes[0].set_xticklabels(axes[0].get_xticklabels(), rotation=45, ha='right')\n",
    "    \n",
    "    # Plot RMSE\n",
    "    sns.barplot(x='Model', y='RMSE', data=comparison_df, ax=axes[1], palette='viridis')\n",
    "    axes[1].set_title('Root Mean Squared Error (RMSE)', fontsize=14, fontweight='bold')\n",
    "    axes[1].set_ylabel('RMSE')\n",
    "    axes[1].set_xticklabels(axes[1].get_xticklabels(), rotation=45, ha='right')\n",
    "    \n",
    "    # Plot MAPE\n",
    "    sns.barplot(x='Model', y='MAPE (%)', data=comparison_df, ax=axes[2], palette='viridis')\n",
    "    axes[2].set_title('Mean Absolute Percentage Error (MAPE)', fontsize=14, fontweight='bold')\n",
    "    axes[2].set_ylabel('MAPE (%)')\n",
    "    axes[2].set_xticklabels(axes[2].get_xticklabels(), rotation=45, ha='right')\n",
    "    \n",
    "    plt.tight_layout()\n",
    "    plt.show()\n",
    "except NameError:\n",
    "    print(\"Results not available. Please run Parts 3 and 4 first.\")"
   ]
  },
  {
   "cell_type": "markdown",
   "metadata": {},
   "source": [
    "## Prediction Visualization\n",
    "\n",
    "Let's visualize the predictions of the best-performing model compared to the actual Bitcoin prices."
   ]
  },
  {
   "cell_type": "code",
   "execution_count": null,
   "metadata": {},
   "outputs": [],
   "source": [
    "try:\n",
    "    # Get the best model based on RMSE\n",
    "    best_model_name = comparison_df.iloc[0]['Model']\n",
    "    print(f\"Best performing model: {best_model_name}\")\n",
    "    \n",
    "    # Get the actual dates for the test period\n",
    "    btc_data = data_dict['btc_data']\n",
    "    test_dates = btc_data.index[-len(mlp_results['price_results']['y_true']):]\n",
    "    \n",
    "    # Get predictions from all models\n",
    "    y_true = mlp_results['price_results']['y_true']  # Same for all models\n",
    "    y_pred_mlp_price = mlp_results['price_results']['y_pred']\n",
    "    y_pred_mlp_frac = mlp_results['frac_results']['y_pred']\n",
    "    y_pred_cnn_price = cnn_results['cnn_price_results']['y_pred']\n",
    "    y_pred_cnn_frac = cnn_results['cnn_frac_results']['y_pred']\n",
    "    \n",
    "    # Plot predictions vs actual\n",
    "    plt.figure(figsize=(16, 8))\n",
    "    plt.plot(test_dates, y_true, label='Actual', color='black', linewidth=2)\n",
    "    plt.plot(test_dates, y_pred_mlp_price, label='MLP (Raw Price)', color='blue', alpha=0.7)\n",
    "    plt.plot(test_dates, y_pred_mlp_frac, label='MLP (Fractionally Differenced)', color='green', alpha=0.7)\n",
    "    plt.plot(test_dates, y_pred_cnn_price, label='CNN with GAF (Raw Price)', color='red', alpha=0.7)\n",
    "    plt.plot(test_dates, y_pred_cnn_frac, label='CNN with GAF (Fractionally Differenced)', color='purple', alpha=0.7)\n",
    "    \n",
    "    plt.title('Bitcoin Price Prediction: All Models Comparison', fontsize=16, fontweight='bold')\n",
    "    plt.xlabel('Date')\n",
    "    plt.ylabel('Bitcoin Price (USD)')\n",
    "    plt.legend()\n",
    "    plt.grid(True, alpha=0.3)\n",
    "    plt.xticks(rotation=45)\n",
    "    plt.tight_layout()\n",
    "    plt.show()\n",
    "    \n",
    "    # Plot a zoomed-in version for better visualization\n",
    "    plt.figure(figsize=(16, 8))\n",
    "    plt.plot(test_dates[-30:], y_true[-30:], label='Actual', color='black', linewidth=2)\n",
    "    plt.plot(test_dates[-30:], y_pred_mlp_price[-30:], label='MLP (Raw Price)', color='blue', alpha=0.7)\n",
    "    plt.plot(test_dates[-30:], y_pred_mlp_frac[-30:], label='MLP (Fractionally Differenced)', color='green', alpha=0.7)\n",
    "    plt.plot(test_dates[-30:], y_pred_cnn_price[-30:], label='CNN with GAF (Raw Price)', color='red', alpha=0.7)\n",
    "    plt.plot(test_dates[-30:], y_pred_cnn_frac[-30:], label='CNN with GAF (Fractionally Differenced)', color='purple', alpha=0.7)\n",
    "    \n",
    "    plt.title('Bitcoin Price Prediction: Last 30 Days Comparison', fontsize=16, fontweight='bold')\n",
    "    plt.xlabel('Date')\n",
    "    plt.ylabel('Bitcoin Price (USD)')\n",
    "    plt.legend()\n",
    "    plt.grid(True, alpha=0.3)\n",
    "    plt.xticks(rotation=45)\n",
    "    plt.tight_layout()\n",
    "    plt.show()\n",
    "except (NameError, KeyError):\n",
    "    print(\"Results not available. Please run Parts 3 and 4 first.\")"
   ]
  },
  {
   "cell_type": "markdown",
   "metadata": {},
   "source": [
    "## Key Findings and Conclusions\n",
    "\n",
    "Based on our comprehensive analysis of Bitcoin price prediction using various deep learning techniques, we can draw the following conclusions:"
   ]
  },
  {
   "cell_type": "markdown",
   "metadata": {},
   "source": [
    "### 1. Impact of Stationarity\n",
    "\n",
    "Our analysis confirmed that the raw Bitcoin price series is non-stationary, which poses challenges for time series forecasting. The fractional differencing approach provided a way to achieve stationarity while preserving more long-term memory compared to traditional differencing methods.\n",
    "\n",
    "**Key Finding**: Models trained on fractionally differenced data generally showed different error patterns compared to those trained on raw price data, highlighting the importance of proper data transformation in financial time series analysis."
   ]
  },
  {
   "cell_type": "markdown",
   "metadata": {},
   "source": [
    "### 2. Model Architecture Comparison\n",
    "\n",
    "We compared two main deep learning architectures:\n",
    "\n",
    "1. **Multilayer Perceptrons (MLPs)**: These models processed the raw time series data directly and showed reasonable performance for both raw and fractionally differenced data.\n",
    "\n",
    "2. **Convolutional Neural Networks (CNNs) with GAF**: By transforming time series into image representations using Gramian Angular Fields, we leveraged the power of CNNs for pattern recognition. This approach offered a novel way to capture temporal dependencies in the data.\n",
    "\n",
    "**Key Finding**: The choice of model architecture significantly impacts prediction performance, with each approach having its strengths and weaknesses depending on the specific characteristics of the data."
   ]
  },
  {
   "cell_type": "markdown",
   "metadata": {},
   "source": [
    "### 3. GAF Transformation Insights\n",
    "\n",
    "The Gramian Angular Field transformation provided a unique way to visualize and process time series data:\n",
    "\n",
    "- GAF images effectively encoded temporal correlations in a format suitable for CNN processing\n",
    "- Different patterns in the GAF images corresponded to different price movement patterns\n",
    "- The transformation preserved important information while enabling the use of powerful CNN architectures\n",
    "\n",
    "**Key Finding**: Image-based representations of time series can capture complex patterns that might be difficult to detect with traditional time series analysis methods."
   ]
  },
  {
   "cell_type": "markdown",
   "metadata": {},
   "source": [
    "### 4. Prediction Performance\n",
    "\n",
    "Our evaluation metrics (MAE, RMSE, MAPE) showed varying performance across models:\n",
    "\n",
    "- The best-performing model based on RMSE was [determined by actual results]\n",
    "- Models trained on fractionally differenced data showed different error characteristics compared to those trained on raw price data\n",
    "- CNN models with GAF representations captured certain patterns that MLP models missed\n",
    "\n",
    "**Key Finding**: No single approach consistently outperformed all others across all metrics, suggesting that an ensemble approach combining multiple models might be beneficial for robust prediction."
   ]
  },
  {
   "cell_type": "markdown",
   "metadata": {},
   "source": [
    "### 5. Practical Implications\n",
    "\n",
    "From a practical perspective, our findings have several implications for financial time series prediction:\n",
    "\n",
    "- The choice between using raw price data or transformed (stationary) data depends on the specific prediction task and performance requirements\n",
    "- Deep learning models can capture complex patterns in cryptocurrency price movements\n",
    "- Novel representations like GAF offer new ways to analyze and predict financial time series\n",
    "- The high volatility of Bitcoin prices remains a challenge for accurate prediction\n",
    "\n",
    "**Key Finding**: While deep learning models show promise for cryptocurrency price prediction, the inherent unpredictability and volatility of these markets limit the accuracy of any prediction model."
   ]
  },
  {
   "cell_type": "markdown",
   "metadata": {},
   "source": [
    "## Future Work\n",
    "\n",
    "Based on our findings, several directions for future work emerge:"
   ]
  },
  {
   "cell_type": "markdown",
   "metadata": {},
   "source": [
    "### 1. Model Enhancements\n",
    "\n",
    "- **Ensemble Methods**: Combine predictions from multiple models to improve robustness\n",
    "- **Advanced Architectures**: Explore recurrent neural networks (RNNs), LSTM networks, and transformer-based models\n",
    "- **Attention Mechanisms**: Implement attention mechanisms to focus on the most relevant parts of the time series\n",
    "- **Transfer Learning**: Apply pre-trained models from other domains to financial time series prediction"
   ]
  },
  {
   "cell_type": "markdown",
   "metadata": {},
   "source": [
    "### 2. Feature Engineering\n",
    "\n",
    "- **Additional Features**: Incorporate trading volume, market sentiment, and macroeconomic indicators\n",
    "- **Alternative Transformations**: Explore wavelet transforms and other time-frequency representations\n",
    "- **Technical Indicators**: Include traditional technical indicators (RSI, MACD, Bollinger Bands, etc.)\n",
    "- **Cross-Asset Information**: Leverage correlations with other cryptocurrencies and traditional assets"
   ]
  },
  {
   "cell_type": "markdown",
   "metadata": {},
   "source": [
    "### 3. Practical Applications\n",
    "\n",
    "- **Trading Strategy Development**: Develop and backtest trading strategies based on model predictions\n",
    "- **Risk Management**: Use prediction uncertainty for risk assessment and portfolio management\n",
    "- **Market Regime Detection**: Identify different market regimes and adapt prediction models accordingly\n",
    "- **Real-time Prediction**: Implement models for real-time prediction with continuous updating"
   ]
  },
  {
   "cell_type": "markdown",
   "metadata": {},
   "source": [
    "## Final Thoughts\n",
    "\n",
    "This project has demonstrated the application of various deep learning techniques to Bitcoin price prediction, highlighting the challenges and opportunities in this domain. While perfect prediction remains elusive due to the inherent unpredictability of financial markets, our models provide valuable insights into the patterns and dynamics of cryptocurrency prices.\n",
    "\n",
    "The combination of proper time series preprocessing (especially fractional differencing), advanced representation techniques (like GAF), and powerful deep learning architectures offers a promising approach to financial time series analysis and prediction."
   ]
  }
 ],
 "metadata": {
  "kernelspec": {
   "display_name": "Python 3",
   "language": "python",
   "name": "python3"
  },
  "language_info": {
   "codemirror_mode": {
    "name": "ipython",
    "version": 3
   },
   "file_extension": ".py",
   "mimetype": "text/x-python",
   "name": "python",
   "nbconvert_exporter": "python",
   "pygments_lexer": "ipython3",
   "version": "3.9.13"
  }
 },
 "nbformat": 4,
 "nbformat_minor": 4
}
